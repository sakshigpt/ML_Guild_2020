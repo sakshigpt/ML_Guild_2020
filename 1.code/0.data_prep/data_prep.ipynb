{
 "cells": [
  {
   "cell_type": "code",
   "execution_count": 52,
   "metadata": {
    "scrolled": true
   },
   "outputs": [
    {
     "name": "stdout",
     "output_type": "stream",
     "text": [
      "The autoreload extension is already loaded. To reload it, use:\n",
      "  %reload_ext autoreload\n"
     ]
    }
   ],
   "source": [
    "%load_ext autoreload\n",
    "%autoreload 2"
   ]
  },
  {
   "cell_type": "code",
   "execution_count": 134,
   "metadata": {},
   "outputs": [],
   "source": [
    "import pandas as pd, sys, numpy as np, pickle, getpass\n",
    "from  datetime import date\n",
    "from sklearn.model_selection import train_test_split\n",
    "\n",
    "username = getpass.getuser()\n",
    "if(username == 'sakshigupta43'):\n",
    "    sys.path.insert(0, '/Users/sakshigupta43/Desktop/Guild_Competition/ML_Guild_2020')\n",
    "    sys.path.insert(0, '/Users/sakshigupta43/Desktop/Guild_Competition/ML_Guild_2020/1.code')\n",
    "else:\n",
    "    sys.path.insert(0, '/Users/skoranne/Desktop/Guild_Competition/ML_Guild_2020')\n",
    "    sys.path.insert(0, '/Users/skoranne/Desktop/Guild_Competition/ML_Guild_2020/1.code')\n",
    "\n",
    "from CONFIG import *\n",
    "from utils.encoding import *\n",
    "from utils.basic import *"
   ]
  },
  {
   "cell_type": "code",
   "execution_count": 53,
   "metadata": {},
   "outputs": [],
   "source": [
    "%reload_ext autoreload"
   ]
  },
  {
   "cell_type": "code",
   "execution_count": 104,
   "metadata": {
    "scrolled": true
   },
   "outputs": [],
   "source": [
    "#-- 'Move to Data Prep'\n",
    "df = pd.read_csv(path_data_raw + '/PPP Train ALL.csv', engine = 'python')\n",
    "df.drop(columns = ['Unnamed: 0', 'Industry'], inplace = True)"
   ]
  },
  {
   "cell_type": "code",
   "execution_count": 105,
   "metadata": {},
   "outputs": [],
   "source": [
    "col = 'DateApproved'\n",
    "df[col] = pd.to_datetime(df[col])\n",
    "df[str(col) + '_month'] = df[col].dt.month\n",
    "df[str(col) + '_day_of_week'] = df[col].dt.dayofweek\n",
    "df[str(col) + '_date'] = df[col].dt.date\n",
    "df.drop(columns = col, inplace = True)"
   ]
  },
  {
   "cell_type": "code",
   "execution_count": 106,
   "metadata": {},
   "outputs": [],
   "source": [
    "df['NonProfit'].replace({'N':0, 'Y':1}, inplace = True)"
   ]
  },
  {
   "cell_type": "code",
   "execution_count": 123,
   "metadata": {},
   "outputs": [],
   "source": [
    "df['LoanRange'].replace({'$150,000-350,000':'$150000-350000',\n",
    "                         '$350,000-1 million':'$350000-1000000',\n",
    "                        '$1-2 million': '$1000000-2000000',\n",
    "                        '$2-5 million':'$2000000-5000000',\n",
    "                        '$5-10 million':'$5000000-10000000'}, inplace = True)\n",
    "\n",
    "df['LoanRange_amnt'] = df['LoanRange'].apply(lambda x: x.split('$')[1])\n",
    "\n",
    "df['LoanRange_min'] = df['LoanRange_amnt'].apply(lambda x: x.split('-')[0])\n",
    "\n",
    "df['LoanRange_max'] = df['LoanRange_amnt'].apply(lambda x: x.split('-')[1])\n",
    "\n",
    "df['LoanRange_max'] = df['LoanRange_max'].astype('int64')\n",
    "df['LoanRange_min'] = df['LoanRange_min'].astype('int')\n",
    "\n",
    "df['LoanRange_mean'] = (df['LoanRange_max']-df['LoanRange_min'])/2\n",
    "\n",
    "df.drop(columns = ['LoanRange', 'LoanRange_amnt'], inplace = True)"
   ]
  },
  {
   "cell_type": "code",
   "execution_count": 136,
   "metadata": {},
   "outputs": [],
   "source": [
    "df.to_csv(path_data_processed + '/processed_data_' + date.today().strftime('%Y%m%d') + '.csv.gz' , index = False, compression = 'gzip')"
   ]
  },
  {
   "cell_type": "code",
   "execution_count": null,
   "metadata": {},
   "outputs": [],
   "source": []
  },
  {
   "cell_type": "code",
   "execution_count": null,
   "metadata": {},
   "outputs": [],
   "source": []
  },
  {
   "cell_type": "code",
   "execution_count": null,
   "metadata": {},
   "outputs": [],
   "source": []
  },
  {
   "cell_type": "code",
   "execution_count": null,
   "metadata": {},
   "outputs": [],
   "source": []
  },
  {
   "cell_type": "code",
   "execution_count": null,
   "metadata": {},
   "outputs": [],
   "source": []
  }
 ],
 "metadata": {
  "kernelspec": {
   "display_name": "Python 3",
   "language": "python",
   "name": "python3"
  },
  "language_info": {
   "codemirror_mode": {
    "name": "ipython",
    "version": 3
   },
   "file_extension": ".py",
   "mimetype": "text/x-python",
   "name": "python",
   "nbconvert_exporter": "python",
   "pygments_lexer": "ipython3",
   "version": "3.8.3"
  }
 },
 "nbformat": 4,
 "nbformat_minor": 4
}
