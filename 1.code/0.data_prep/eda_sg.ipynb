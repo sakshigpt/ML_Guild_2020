{
 "cells": [
  {
   "cell_type": "code",
   "execution_count": null,
   "metadata": {},
   "outputs": [],
   "source": [
    "'''Rough notebook for SG eda'''"
   ]
  },
  {
   "cell_type": "code",
   "execution_count": 1,
   "metadata": {},
   "outputs": [],
   "source": [
    "%load_ext autoreload\n",
    "%autoreload 2"
   ]
  },
  {
   "cell_type": "code",
   "execution_count": 2,
   "metadata": {},
   "outputs": [],
   "source": [
    "import pandas as pd, sys, numpy as np, pickle, getpass\n",
    "from  datetime import date\n",
    "from sklearn.model_selection import train_test_split\n",
    "\n",
    "username = getpass.getuser()\n",
    "if(username == 'sakshigupta43'):\n",
    "    sys.path.insert(0, '/Users/sakshigupta43/Desktop/Guild_Competition/ML_Guild_2020')\n",
    "    sys.path.insert(0, '/Users/sakshigupta43/Desktop/Guild_Competition/ML_Guild_2020/1.code')\n",
    "else:\n",
    "    sys.path.insert(0, '/Users/skoranne/Desktop/Guild_Competition/ML_Guild_2020')\n",
    "    sys.path.insert(0, '/Users/skoranne/Desktop/Guild_Competition/ML_Guild_2020/1.code')\n",
    "\n",
    "from CONFIG import *\n",
    "from utils.encoding import *\n",
    "from utils.basic import *"
   ]
  },
  {
   "cell_type": "code",
   "execution_count": 3,
   "metadata": {},
   "outputs": [],
   "source": [
    "%reload_ext autoreload"
   ]
  },
  {
   "cell_type": "code",
   "execution_count": 4,
   "metadata": {},
   "outputs": [],
   "source": [
    "path_data = '/Users/sakshigupta43/Desktop/Guild_Competition/ML_Guild_2020/0.data/0.raw/PPP Train ALL.csv'"
   ]
  },
  {
   "cell_type": "code",
   "execution_count": 5,
   "metadata": {},
   "outputs": [],
   "source": [
    "df = pd.read_csv(path_data)"
   ]
  },
  {
   "cell_type": "code",
   "execution_count": 6,
   "metadata": {
    "collapsed": true
   },
   "outputs": [
    {
     "data": {
      "text/plain": [
       "Unnamed: 0                                               0\n",
       "BusinessType                       Independent Contractors\n",
       "CD                                                 CA - 49\n",
       "City                                              LA JOLLA\n",
       "DateApproved                                    04/30/2020\n",
       "Gender                                          Unanswered\n",
       "JobsRetained                                             1\n",
       "Lender                     U.S. Bank, National Association\n",
       "LoanRange                                     $16300-27300\n",
       "NAICSCode                                           531210\n",
       "NonProfit                                                N\n",
       "RaceEthnicity                                   Unanswered\n",
       "State                                                   CA\n",
       "Veteran                                         Unanswered\n",
       "Zip                                                  92037\n",
       "Industry         Offices of Real Estate Agents and Brokers\n",
       "Index                                              1026947\n",
       "Name: 0, dtype: object"
      ]
     },
     "execution_count": 6,
     "metadata": {},
     "output_type": "execute_result"
    }
   ],
   "source": [
    "df.iloc[0]"
   ]
  },
  {
   "cell_type": "code",
   "execution_count": 6,
   "metadata": {},
   "outputs": [],
   "source": [
    "cols = df.columns.values.tolist()\n",
    "cols.remove('Index')\n",
    "cols.remove('Unnamed: 0')"
   ]
  },
  {
   "cell_type": "code",
   "execution_count": 8,
   "metadata": {},
   "outputs": [
    {
     "data": {
      "text/plain": [
       "Unnamed: 0          0\n",
       "BusinessType     3181\n",
       "CD                  0\n",
       "City               38\n",
       "DateApproved        0\n",
       "Gender              0\n",
       "JobsRetained        0\n",
       "Lender              0\n",
       "LoanRange           0\n",
       "NAICSCode           0\n",
       "NonProfit           0\n",
       "RaceEthnicity       0\n",
       "State               0\n",
       "Veteran             0\n",
       "Zip                34\n",
       "Industry            0\n",
       "Index               0\n",
       "dtype: int64"
      ]
     },
     "execution_count": 8,
     "metadata": {},
     "output_type": "execute_result"
    }
   ],
   "source": [
    "df.isna().sum(axis=0)"
   ]
  },
  {
   "cell_type": "code",
   "execution_count": 7,
   "metadata": {
    "collapsed": true
   },
   "outputs": [
    {
     "name": "stdout",
     "output_type": "stream",
     "text": [
      "Correlation for BusinessType\n",
      "Correlation with CD is: 0.08197490746171912\n",
      "Correlation with City is: 0.09132626028777048\n",
      "Correlation with DateApproved is: 0.10111155771722466\n",
      "Correlation with Gender is: 0.06881218689756576\n",
      "Correlation with JobsRetained is: 0.12683599657251718\n",
      "Correlation with Lender is: 0.18946481949588376\n",
      "Correlation with LoanRange is: 0.1448359710312444\n",
      "Correlation with NAICSCode is: 0.23004143510757905\n",
      "Correlation with NonProfit is: 0.9999981075851708\n",
      "Correlation with RaceEthnicity is: 0.028716995646385853\n",
      "Correlation with State is: 0.06941649559387487\n",
      "Correlation with Veteran is: 0.0755168918495462\n",
      "Correlation with Zip is: 0.11502831606899908\n",
      "Correlation with Industry is: 0.23004143510757907\n",
      "Correlation for CD\n",
      "Correlation with BusinessType is: 0.08197490746171912\n",
      "Correlation with City is: 0.737083535419646\n",
      "Correlation with DateApproved is: 0.05225922173516264\n",
      "Correlation with Gender is: 0.14484358111639345\n",
      "Correlation with JobsRetained is: 0.01068521815593385\n",
      "Correlation with Lender is: 0.3614120216684744\n",
      "Correlation with LoanRange is: 0.05337064185917221\n",
      "Correlation with NAICSCode is: 0.03908652835025153\n",
      "Correlation with NonProfit is: 0.07798917961259168\n",
      "Correlation with RaceEthnicity is: 0.11524067384676256\n",
      "Correlation with State is: 0.9998870291072345\n",
      "Correlation with Veteran is: 0.09170005437014057\n",
      "Correlation with Zip is: 0.9458431589896198\n",
      "Correlation with Industry is: 0.03908652835025154\n",
      "Correlation for City\n",
      "Correlation with BusinessType is: 0.09132626028777052\n",
      "Correlation with CD is: 0.7370835354196461\n",
      "Correlation with DateApproved is: 0.06862160166501874\n",
      "Correlation with Gender is: 0.16119536680410557\n",
      "Correlation with JobsRetained is: 0.0\n",
      "Correlation with Lender is: 0.2778540078284864\n",
      "Correlation with LoanRange is: 0.05571693655153363\n",
      "Correlation with NAICSCode is: 0.06229450353958422\n",
      "Correlation with NonProfit is: 0.08755287235619533\n",
      "Correlation with RaceEthnicity is: 0.12259176359792508\n",
      "Correlation with State is: 0.8616712690215517\n",
      "Correlation with Veteran is: 0.11176459651200818\n",
      "Correlation with Zip is: 0.696755911766063\n",
      "Correlation with Industry is: 0.06229450353958409\n",
      "Correlation for DateApproved\n",
      "Correlation with BusinessType is: 0.10111155771722466\n",
      "Correlation with CD is: 0.052259221735162634\n",
      "Correlation with City is: 0.06862160166501878\n",
      "Correlation with Gender is: 0.1786574654250102\n",
      "Correlation with JobsRetained is: 0.053293106702203975\n",
      "Correlation with Lender is: 0.16563064017230886\n",
      "Correlation with LoanRange is: 0.1485236116082118\n",
      "Correlation with NAICSCode is: 0.04786506251648411\n",
      "Correlation with NonProfit is: 0.06431343132119317\n",
      "Correlation with RaceEthnicity is: 0.09952608296354828\n",
      "Correlation with State is: 0.05351755998615453\n",
      "Correlation with Veteran is: 0.1266202263467501\n",
      "Correlation with Zip is: 0.06342219347163215\n",
      "Correlation with Industry is: 0.04786506251648411\n",
      "Correlation for Gender\n",
      "Correlation with BusinessType is: 0.06881218689756576\n",
      "Correlation with CD is: 0.14484358111639348\n",
      "Correlation with City is: 0.16119536680410554\n",
      "Correlation with DateApproved is: 0.1786574654250102\n",
      "Correlation with JobsRetained is: 0.10934571902826297\n",
      "Correlation with Lender is: 0.3797771067963347\n",
      "Correlation with LoanRange is: 0.08850986690985857\n",
      "Correlation with NAICSCode is: 0.16021432198069196\n",
      "Correlation with NonProfit is: 0.05005195616434353\n",
      "Correlation with RaceEthnicity is: 0.4130816878801244\n",
      "Correlation with State is: 0.12175277583163871\n",
      "Correlation with Veteran is: 0.5118805956660339\n",
      "Correlation with Zip is: 0.19642643387902875\n",
      "Correlation with Industry is: 0.16021432198069196\n",
      "Correlation for JobsRetained\n",
      "Correlation with BusinessType is: 0.1268359965725172\n",
      "Correlation with CD is: 0.010685218155933849\n",
      "Correlation with City is: 0.0\n",
      "Correlation with DateApproved is: 0.053293106702203975\n",
      "Correlation with Gender is: 0.10934571902826296\n",
      "Correlation with Lender is: 0.03599482832217244\n",
      "Correlation with LoanRange is: 0.4605654692935614\n",
      "Correlation with NAICSCode is: 0.03030504699974751\n",
      "Correlation with NonProfit is: 0.10822882813860928\n",
      "Correlation with RaceEthnicity is: 0.04492463389950018\n",
      "Correlation with State is: 0.02794537477768168\n",
      "Correlation with Veteran is: 0.10028459799414924\n",
      "Correlation with Zip is: 0.0\n",
      "Correlation with Industry is: 0.030305046999747516\n",
      "Correlation for Lender\n",
      "Correlation with BusinessType is: 0.18946481949588376\n",
      "Correlation with CD is: 0.3614120216684744\n",
      "Correlation with City is: 0.27785400782848685\n",
      "Correlation with DateApproved is: 0.16563064017230886\n",
      "Correlation with Gender is: 0.3797771067963347\n",
      "Correlation with JobsRetained is: 0.03599482832217242\n",
      "Correlation with LoanRange is: 0.1341726265543102\n",
      "Correlation with NAICSCode is: 0.05765689249620206\n",
      "Correlation with NonProfit is: 0.15321019620699244\n",
      "Correlation with RaceEthnicity is: 0.30240305580574756\n",
      "Correlation with State is: 0.6631431877939071\n",
      "Correlation with Veteran is: 0.32643429022598947\n",
      "Correlation with Zip is: 0.3556534786857203\n",
      "Correlation with Industry is: 0.057656892496202004\n",
      "Correlation for LoanRange\n",
      "Correlation with BusinessType is: 0.1448359710312444\n",
      "Correlation with CD is: 0.053370641859172216\n",
      "Correlation with City is: 0.05571693655153365\n",
      "Correlation with DateApproved is: 0.1485236116082118\n",
      "Correlation with Gender is: 0.08850986690985857\n",
      "Correlation with JobsRetained is: 0.4605654692935614\n",
      "Correlation with Lender is: 0.13417262655431023\n",
      "Correlation with NAICSCode is: 0.169290353865296\n",
      "Correlation with NonProfit is: 0.07606638347133073\n",
      "Correlation with RaceEthnicity is: 0.029184954282420364\n",
      "Correlation with State is: 0.037547173555504236\n",
      "Correlation with Veteran is: 0.08660809037640627\n",
      "Correlation with Zip is: 0.08817655462741962\n",
      "Correlation with Industry is: 0.169290353865296\n",
      "Correlation for NAICSCode\n",
      "Correlation with BusinessType is: 0.23004143510757913\n",
      "Correlation with CD is: 0.03908652835025153\n",
      "Correlation with City is: 0.062294503539583955\n",
      "Correlation with DateApproved is: 0.04786506251648411\n",
      "Correlation with Gender is: 0.16021432198069196\n",
      "Correlation with JobsRetained is: 0.030305046999747513\n",
      "Correlation with Lender is: 0.057656892496202004\n",
      "Correlation with LoanRange is: 0.169290353865296\n",
      "Correlation with NonProfit is: 0.7421666740415955\n",
      "Correlation with RaceEthnicity is: 0.09272216060193958\n",
      "Correlation with State is: 0.08292300438723127\n",
      "Correlation with Veteran is: 0.12951534165760403\n",
      "Correlation with Zip is: 0.08257120529610582\n",
      "Correlation with Industry is: 0.9999999999999999\n",
      "Correlation for NonProfit\n",
      "Correlation with BusinessType is: 0.9999981075851708\n",
      "Correlation with CD is: 0.07798917961259168\n",
      "Correlation with City is: 0.08755287235619533\n",
      "Correlation with DateApproved is: 0.06431343132119319\n",
      "Correlation with Gender is: 0.050051956164343527\n",
      "Correlation with JobsRetained is: 0.10822882813860929\n",
      "Correlation with Lender is: 0.15321019620699244\n",
      "Correlation with LoanRange is: 0.07606638347133073\n",
      "Correlation with NAICSCode is: 0.7421666740415955\n",
      "Correlation with RaceEthnicity is: 0.0357286225782983\n",
      "Correlation with State is: 0.06054780021602667\n",
      "Correlation with Veteran is: 0.05703643225968845\n",
      "Correlation with Zip is: 0.1394794525626285\n",
      "Correlation with Industry is: 0.7421666740415954\n",
      "Correlation for RaceEthnicity\n",
      "Correlation with BusinessType is: 0.028716995646385853\n",
      "Correlation with CD is: 0.11524067384676256\n",
      "Correlation with City is: 0.12259176359792506\n",
      "Correlation with DateApproved is: 0.09952608296354827\n",
      "Correlation with Gender is: 0.4130816878801244\n",
      "Correlation with JobsRetained is: 0.04492463389950018\n",
      "Correlation with Lender is: 0.3024030558057475\n",
      "Correlation with LoanRange is: 0.029184954282420364\n",
      "Correlation with NAICSCode is: 0.09272216060193958\n",
      "Correlation with NonProfit is: 0.0357286225782983\n",
      "Correlation with State is: 0.08901544413916528\n",
      "Correlation with Veteran is: 0.3679016449455061\n",
      "Correlation with Zip is: 0.1531437271412935\n",
      "Correlation with Industry is: 0.09272216060193957\n",
      "Correlation for State\n",
      "Correlation with BusinessType is: 0.06941649559387487\n",
      "Correlation with CD is: 0.9998870291072345\n",
      "Correlation with City is: 0.8616712690215519\n",
      "Correlation with DateApproved is: 0.05351755998615454\n",
      "Correlation with Gender is: 0.12175277583163871\n",
      "Correlation with JobsRetained is: 0.027945374777681685\n",
      "Correlation with Lender is: 0.6631431877939069\n"
     ]
    },
    {
     "name": "stdout",
     "output_type": "stream",
     "text": [
      "Correlation with LoanRange is: 0.03754717355550423\n",
      "Correlation with NAICSCode is: 0.08292300438723126\n",
      "Correlation with NonProfit is: 0.06054780021602667\n",
      "Correlation with RaceEthnicity is: 0.08901544413916528\n",
      "Correlation with Veteran is: 0.07626624158460561\n",
      "Correlation with Zip is: 0.9953710042780799\n",
      "Correlation with Industry is: 0.08292300438723126\n",
      "Correlation for Veteran\n",
      "Correlation with BusinessType is: 0.0755168918495462\n",
      "Correlation with CD is: 0.09170005437014057\n",
      "Correlation with City is: 0.1117645965120082\n",
      "Correlation with DateApproved is: 0.12662022634675013\n",
      "Correlation with Gender is: 0.5118805956660339\n",
      "Correlation with JobsRetained is: 0.10028459799414924\n",
      "Correlation with Lender is: 0.32643429022598947\n",
      "Correlation with LoanRange is: 0.08660809037640628\n",
      "Correlation with NAICSCode is: 0.12951534165760403\n",
      "Correlation with NonProfit is: 0.05703643225968845\n",
      "Correlation with RaceEthnicity is: 0.36790164494550615\n",
      "Correlation with State is: 0.07626624158460563\n",
      "Correlation with Zip is: 0.13965536281673138\n",
      "Correlation with Industry is: 0.12951534165760403\n",
      "Correlation for Zip\n",
      "Correlation with BusinessType is: 0.11502831606899908\n",
      "Correlation with CD is: 0.9458431589896192\n",
      "Correlation with City is: 0.6967559117660661\n",
      "Correlation with DateApproved is: 0.06342219347163205\n",
      "Correlation with Gender is: 0.19642643387902875\n",
      "Correlation with JobsRetained is: 0.0\n",
      "Correlation with Lender is: 0.3556534786857224\n",
      "Correlation with LoanRange is: 0.08817655462741969\n",
      "Correlation with NAICSCode is: 0.08257120529610565\n",
      "Correlation with NonProfit is: 0.1394794525626285\n",
      "Correlation with RaceEthnicity is: 0.1531437271412935\n",
      "Correlation with State is: 0.9953710042780799\n",
      "Correlation with Veteran is: 0.13965536281673138\n",
      "Correlation with Industry is: 0.08257120529610569\n",
      "Correlation for Industry\n",
      "Correlation with BusinessType is: 0.2300414351075791\n",
      "Correlation with CD is: 0.03908652835025153\n",
      "Correlation with City is: 0.06229450353958387\n",
      "Correlation with DateApproved is: 0.04786506251648411\n",
      "Correlation with Gender is: 0.16021432198069196\n",
      "Correlation with JobsRetained is: 0.030305046999747513\n",
      "Correlation with Lender is: 0.05765689249620202\n",
      "Correlation with LoanRange is: 0.169290353865296\n",
      "Correlation with NAICSCode is: 0.9999999999999997\n",
      "Correlation with NonProfit is: 0.7421666740415954\n",
      "Correlation with RaceEthnicity is: 0.09272216060193958\n",
      "Correlation with State is: 0.08292300438723126\n",
      "Correlation with Veteran is: 0.12951534165760403\n",
      "Correlation with Zip is: 0.08257120529610547\n"
     ]
    }
   ],
   "source": [
    "for col in cols:\n",
    "    print('Correlation for {}'.format(col))\n",
    "    for col2  in cols:\n",
    "        if(col!=col2):\n",
    "            corr = cramers_v(df[col],df[col2])\n",
    "            print('Correlation with {} is: {}'.\n",
    "                  format(col2, corr))"
   ]
  },
  {
   "cell_type": "code",
   "execution_count": 19,
   "metadata": {
    "scrolled": true
   },
   "outputs": [
    {
     "data": {
      "text/plain": [
       "0.1485236116082118"
      ]
     },
     "execution_count": 19,
     "metadata": {},
     "output_type": "execute_result"
    }
   ],
   "source": []
  },
  {
   "cell_type": "code",
   "execution_count": 7,
   "metadata": {},
   "outputs": [],
   "source": [
    "#74% people have unanswered\n",
    "df_corrunanswered =  df.loc[(df.Gender ==  'Unanswered')&(df.RaceEthnicity ==  'Unanswered')&(df.Veteran ==  'Unanswered')]"
   ]
  },
  {
   "cell_type": "code",
   "execution_count": 12,
   "metadata": {},
   "outputs": [],
   "source": [
    "#7.7% people have all answered\n",
    "df_answered =  df.loc[(df.Gender !=  'Unanswered')&(df.RaceEthnicity !=  'Unanswered')&(df.Veteran !=  'Unanswered')]"
   ]
  },
  {
   "cell_type": "code",
   "execution_count": 13,
   "metadata": {},
   "outputs": [
    {
     "data": {
      "text/plain": [
       "(309193, 17)"
      ]
     },
     "execution_count": 13,
     "metadata": {},
     "output_type": "execute_result"
    }
   ],
   "source": [
    "df_answered.shape"
   ]
  },
  {
   "cell_type": "code",
   "execution_count": 9,
   "metadata": {},
   "outputs": [
    {
     "data": {
      "text/plain": [
       "(3966377, 17)"
      ]
     },
     "execution_count": 9,
     "metadata": {},
     "output_type": "execute_result"
    }
   ],
   "source": [
    "df.shape"
   ]
  },
  {
   "cell_type": "code",
   "execution_count": 11,
   "metadata": {},
   "outputs": [
    {
     "data": {
      "text/plain": [
       "0.7471357362146867"
      ]
     },
     "execution_count": 11,
     "metadata": {},
     "output_type": "execute_result"
    }
   ],
   "source": [
    "2963422/3966377"
   ]
  },
  {
   "cell_type": "code",
   "execution_count": 14,
   "metadata": {},
   "outputs": [
    {
     "data": {
      "text/plain": [
       "0.0779535076973268"
      ]
     },
     "execution_count": 14,
     "metadata": {},
     "output_type": "execute_result"
    }
   ],
   "source": [
    "309193/3966377"
   ]
  },
  {
   "cell_type": "code",
   "execution_count": null,
   "metadata": {},
   "outputs": [],
   "source": []
  },
  {
   "cell_type": "code",
   "execution_count": null,
   "metadata": {},
   "outputs": [],
   "source": []
  },
  {
   "cell_type": "code",
   "execution_count": null,
   "metadata": {},
   "outputs": [],
   "source": []
  },
  {
   "cell_type": "code",
   "execution_count": null,
   "metadata": {},
   "outputs": [],
   "source": []
  },
  {
   "cell_type": "code",
   "execution_count": null,
   "metadata": {},
   "outputs": [],
   "source": []
  },
  {
   "cell_type": "code",
   "execution_count": null,
   "metadata": {},
   "outputs": [],
   "source": []
  },
  {
   "cell_type": "code",
   "execution_count": null,
   "metadata": {},
   "outputs": [],
   "source": []
  },
  {
   "cell_type": "code",
   "execution_count": null,
   "metadata": {},
   "outputs": [],
   "source": []
  },
  {
   "cell_type": "code",
   "execution_count": null,
   "metadata": {},
   "outputs": [],
   "source": []
  },
  {
   "cell_type": "code",
   "execution_count": null,
   "metadata": {},
   "outputs": [],
   "source": []
  },
  {
   "cell_type": "code",
   "execution_count": null,
   "metadata": {},
   "outputs": [],
   "source": []
  },
  {
   "cell_type": "code",
   "execution_count": null,
   "metadata": {},
   "outputs": [],
   "source": []
  },
  {
   "cell_type": "code",
   "execution_count": null,
   "metadata": {},
   "outputs": [],
   "source": []
  },
  {
   "cell_type": "code",
   "execution_count": null,
   "metadata": {},
   "outputs": [],
   "source": []
  },
  {
   "cell_type": "code",
   "execution_count": null,
   "metadata": {},
   "outputs": [],
   "source": []
  },
  {
   "cell_type": "code",
   "execution_count": null,
   "metadata": {},
   "outputs": [],
   "source": [
    "def getParams(distName, data):\n",
    "    if distName == 'expon':\n",
    "        params = stats.expon.fit(data)\n",
    "        data = stats.expon.rvs(*params, 500)"
   ]
  },
  {
   "cell_type": "code",
   "execution_count": null,
   "metadata": {},
   "outputs": [],
   "source": [
    "def getParams(distName, data):\n",
    "    if distName == 'beta':\n",
    "        params = stats.beta.fit(data)\n",
    "        data = stats.beta.rvs(*params, 500)\n",
    "    elif distName == 'invgauss':\n",
    "        params = stats.invgauss.fit(data)\n",
    "        data = stats.invgauss.rvs(*params, 500)\n",
    "    elif distName == 'lognorm':\n",
    "        params = stats.lognorm.fit(data)\n",
    "        data = stats.lognorm.rvs(*params, 500)\n",
    "    elif distName == 'pearson3':\n",
    "        params = stats.pearson3.fit(data)\n",
    "        data = stats.pearson3.rvs(*params, 500)\n",
    "    elif distName == 'moyal':\n",
    "        params = stats.moyal.fit(data)\n",
    "        data = stats.moyal.rvs(*params, 500)\n",
    "    elif distName == 'skewnorm':\n",
    "        params = stats.skewnorm.fit(data)\n",
    "        data = stats.skewnorm.rvs(*params, 500)\n",
    "    elif distName == 'weibull_max':\n",
    "        params = stats.weibull_max.fit(data)\n",
    "        data = stats.weibull_max.rvs(*params, 500)\n",
    "    elif distName == 'weibull_min':\n",
    "        params = stats.weibull_min.fit(data)\n",
    "        data = stats.weibull_min.rvs(*params, 500)\n",
    "    elif distName == 'poisson':\n",
    "        params = stats.poisson.fit(data)\n",
    "        data = stats.beta.rvs(*params, 500)\n",
    "    return list(params)\n",
    "\n",
    "def getPrediction(distName, params):\n",
    "    if distName == 'beta':\n",
    "        data = stats.beta.rvs(*params, 500)\n",
    "    elif distName == 'invgauss':\n",
    "        data = stats.invgauss.rvs(*params, 500)\n",
    "    elif distName == 'lognorm':\n",
    "        data = stats.lognorm.rvs(*params, 500)\n",
    "    elif distName == 'pearson3':\n",
    "        data = stats.pearson3.rvs(*params, 500)\n",
    "    elif distName == 'moyal':\n",
    "        data = stats.moyal.rvs(*params, 500)\n",
    "    elif distName == 'skewnorm':\n",
    "        data = stats.skewnorm.rvs(*params, 500)\n",
    "    elif distName == 'weibull_max':\n",
    "        data = stats.weibull_max.rvs(*params, 500)\n",
    "    elif distName == 'weibull_min':\n",
    "        data = stats.weibull_min.rvs(*params, 500)\n",
    "    elif distName == 'poisson':\n",
    "        data = stats.beta.rvs(*params, 500)\n",
    "    data = [int(i) for i in data]\n",
    "    return data\n"
   ]
  },
  {
   "cell_type": "code",
   "execution_count": 8,
   "metadata": {},
   "outputs": [],
   "source": []
  },
  {
   "cell_type": "code",
   "execution_count": 9,
   "metadata": {
    "scrolled": true
   },
   "outputs": [],
   "source": []
  },
  {
   "cell_type": "code",
   "execution_count": 58,
   "metadata": {
    "scrolled": true
   },
   "outputs": [
    {
     "name": "stdout",
     "output_type": "stream",
     "text": [
      "Unnamed: 0: 3966377\n",
      "BusinessType: 17\n",
      "CD: 525\n",
      "City: 33772\n",
      "DateApproved: 79\n",
      "Gender: 3\n",
      "JobsRetained: 501\n",
      "Lender: 4858\n",
      "LoanRange: 10\n",
      "NAICSCode: 1057\n",
      "NonProfit: 2\n",
      "RaceEthnicity: 9\n",
      "State: 51\n",
      "Veteran: 3\n",
      "Zip: 35634\n",
      "Industry: 1057\n",
      "Index: 3966377\n"
     ]
    }
   ],
   "source": [
    "for col in df.columns.values.tolist():\n",
    "    print('{}: {}'.format(col, df[col].nunique()))"
   ]
  },
  {
   "cell_type": "code",
   "execution_count": null,
   "metadata": {},
   "outputs": [],
   "source": [
    "# config \n",
    "1. data prep \n",
    "    1.1. clean data \n",
    "        1.1.1 impute nulls/values\n",
    "            1.1.1.1 BusinessType -> Create a new category 'Not Specified' - SK\n",
    "            1.1.1.2 Convert NonProfit to Binary indicator - SK\n",
    "        1.1.2 remove dupes/columns\n",
    "            1.1.2.1 Unnamed: 0, City, Industry and Zip (skip for now) - SK\n",
    "        1.1.3 eda - SG\n",
    "        1.1.4 descriptive analysis - \n",
    "        1.1.5 outlier analysis - \n",
    "    1.3. feature engineering\n",
    "        1.3.1 CD - State and DC. Replace Null DC by -1 - SK \n",
    "        1.3.2 LoanRange - Mean, Min, Max -  SK\n",
    "        1.3.3 Weighted_Loan_Amt - Loan_Amount * Wi*Fi (W - weight, F- feature)  - SK\n",
    "    1.2. data transformation\n",
    "        1.2.1 label encoding - CD, City, Lender, NAICSCode, State, Zip - SK/ SG\n",
    "        1.2.2 target/mean encoding  - CD, City, Lender, NAICSCode, State, Zip - SG\n",
    "        1.2.3 one hot encoding - Veteran, RaceEthnicity, Gender, BusinessType - SG\n",
    "    1.4. train test split (80/20) - SG\n",
    "    1.5. models\n",
    "        1.5.1 XGBoost - SG\n",
    "        1.5.2 GBM - SG\n",
    "        1.5.3 RF - SG\n",
    "        1.5.4 NN - TBD\n",
    "        1.5.5 LR - SK\n",
    "        1.5.6 \n",
    "        \n",
    "#notebook\n",
    "data_prep_sg.ipynb\n",
    "feature_engineering.ipynb\n",
    "feature_encoding.ipynb\n",
    "model.ipynb\n",
    "\n",
    "#file structure\n",
    "data\n",
    "    - raw\n",
    "    - master\n",
    "code\n",
    "    - data prep\n",
    "    - model "
   ]
  },
  {
   "cell_type": "code",
   "execution_count": null,
   "metadata": {},
   "outputs": [],
   "source": []
  },
  {
   "cell_type": "code",
   "execution_count": null,
   "metadata": {},
   "outputs": [],
   "source": []
  },
  {
   "cell_type": "code",
   "execution_count": 35,
   "metadata": {
    "collapsed": true
   },
   "outputs": [
    {
     "data": {
      "text/plain": [
       "Unnamed: 0          0\n",
       "BusinessType     3181\n",
       "CD                  0\n",
       "City               38\n",
       "DateApproved        0\n",
       "Gender              0\n",
       "JobsRetained        0\n",
       "Lender              0\n",
       "LoanRange           0\n",
       "NAICSCode           0\n",
       "NonProfit           0\n",
       "RaceEthnicity       0\n",
       "State               0\n",
       "Veteran             0\n",
       "Zip                34\n",
       "Industry            0\n",
       "Index               0\n",
       "dtype: int64"
      ]
     },
     "execution_count": 35,
     "metadata": {},
     "output_type": "execute_result"
    }
   ],
   "source": [
    "df.isna().sum(axis = 0)"
   ]
  },
  {
   "cell_type": "code",
   "execution_count": 43,
   "metadata": {
    "collapsed": true
   },
   "outputs": [
    {
     "data": {
      "text/plain": [
       "array(['CA - 49', 'CA - 39', 'MI - 08', 'PA - 01', 'TX - 30', 'TX - 10',\n",
       "       'NH - 01', 'NC - 06', 'CA - 52', 'OK - 01', 'CA - 26', 'OR - 04',\n",
       "       'IL - 04', 'MN - 01', 'VA - 02', 'WI - 01', 'GA - 05', 'NC - 05',\n",
       "       'TX - 20', 'TN - 03', 'CT - 05', 'GA - 06', 'TX - 34', 'NY - 22',\n",
       "       'MI - 05', 'MO - 08', 'KS - 01', 'CA - 18', 'TX - 11', 'NE - 03',\n",
       "       'MD - 06', 'IA - 02', 'LA - 01', 'IN - 03', 'NY - 18', 'CA - 25',\n",
       "       'MN - 07', 'ND - 00', 'TN - 01', 'NJ - 03', 'PA - 17', 'NY - 01',\n",
       "       'FL - 23', 'SD - 00', 'MN - 08', 'SC - 01', 'NY - 21', 'ME - 02',\n",
       "       'ID - 01', 'IA - 04', 'AR - 02', 'TX - 01', 'CT - 04', 'TN - 07',\n",
       "       'TN - 05', 'IN - 05', 'FL - 16', 'MO - 04', 'CO - 04', 'UT - 04',\n",
       "       'WV - 01', 'IL - 05', 'TN - 04', 'VA - 10', 'SC - 04', 'PA - 16',\n",
       "       'AZ - 06', 'CA - 15', 'NY - 10', 'WA - 05', 'AR - 03', 'FL - 11',\n",
       "       'FL - 20', 'NJ - 04', 'WI - 04', 'TX - 06', 'FL - 18', 'UT - 02',\n",
       "       'UT - 01', 'VA - 11', 'FL - 12', 'ME - 01', 'OH - 01', 'IL - 18',\n",
       "       'FL - 03', 'GA - 01', 'CA - 06', 'MN - 06', 'MO - 06', 'TX - 02',\n",
       "       'OH - 11', 'CO - 01', 'IN - 07', 'DE - 00', 'ID - 02', 'TX - 19',\n",
       "       'OK - 02', 'AL - 05', 'PA - 12', 'NC - 13', 'TX - 15', 'WY - 00',\n",
       "       'CA - 33', 'NH - 02', 'CA - 42', 'NV - 01', 'WI - 06', 'MA - 09',\n",
       "       'TX - 21', 'CA - 27', 'WA - 08', 'CA - 31', 'TX - 04', 'CO - 03',\n",
       "       'GA - 07', 'GA - 10', 'TX - 03', 'NY - 19', 'NY - 09', 'VT - 00',\n",
       "       'AL - 02', 'NV - 04', 'NJ - 11', 'OH - 03', 'NE - 02', 'MA - 01',\n",
       "       'OH - 02', 'NJ - 05', 'WA - 01', 'FL - 27', 'CA - 29', 'AR - 01',\n",
       "       'SC - 06', 'FL - 07', 'OK - 05', 'MO - 07', 'PA - 05', 'SC - 03',\n",
       "       'IL - 08', 'MD - 01', 'CT - 03', 'MA - 04', 'CA - 34', 'CA - 11',\n",
       "       'CA - 24', 'AZ - 04', 'NY - 05', 'TX - 13', 'NC - 08', 'NJ - 09',\n",
       "       'VA - 07', 'OR - 01', 'GA - 12', 'TX - 07', 'MA - 08', 'FL - 25',\n",
       "       'CA - 21', 'RI - 01', 'CA - 45', 'FL - 04', 'PA - 14', 'IL - 13',\n",
       "       'IL - 03', 'IN - 02', 'TX - 26', 'MA - 07', 'PA - 10', 'MO - 01',\n",
       "       'VA - 01', 'MS - 01', 'NM - 02', 'NY - 15', 'NY - 08', 'NY - 07',\n",
       "       'OH - 07', 'LA - 05', 'OK - 03', 'FL - 08', 'IL - 02', 'WA - 02',\n",
       "       'NC - 04', 'GA - 14', 'MI - 01', 'FL - 26', 'IL - 14', 'VA - 05',\n",
       "       'CA - 28', 'TX - 14', 'GA - 02', 'CA - 50', 'GA - 09', 'OH - 09',\n",
       "       'MI - 12', 'OK - 04', 'TX - 29', 'FL - 01', 'PA - 15', 'PA - 09',\n",
       "       'MD - 03', 'MO - 05', 'MI - 10', 'OR - 03', 'MI - 11', 'AL - 01',\n",
       "       'CO - 02', 'PA - 08', 'NJ - 07', 'VA - 03', 'LA - 02', 'CA - 20',\n",
       "       'MI - 07', 'TX - 12', 'OR - 05', 'CA - 07', 'CA - 19', 'MI - 04',\n",
       "       'NC - 10', 'AL - 03', 'NY - 11', 'IL - 15', 'WI - 03', 'IL - 01',\n",
       "       'CA - 17', 'NY - 12', 'TN - 02', 'MA - 06', 'AZ - 01', 'IA - 01',\n",
       "       'SC - 02', 'GA - 08', 'NV - 03', 'NY - 20', 'MS - 04', 'CT - 02',\n",
       "       'MS - 03', 'MT - 00', 'FL - 21', 'KY - 01', 'FL - 24', 'WI - 07',\n",
       "       'WA - 03', 'NC - 11', 'LA - 04', 'FL - 19', 'AZ - 05', 'NC - 02',\n",
       "       'OR - 02', 'AL - 06', 'IL - 07', 'MI - 06', 'MI - 14', 'CA - 01',\n",
       "       'IL - 10', 'GA - 03', 'MD - 05', 'WA - 06', 'VA - 04', 'CA - 38',\n",
       "       'MN - 02', 'NY - 16', 'TX - 05', 'IL - 12', 'CA - 51', 'NE - 01',\n",
       "       'IN - 06', 'AL - 07', 'MA - 02', 'LA - 03', 'MI - 03', 'CA - 47',\n",
       "       'NM - 03', 'AZ - 07', 'OH - 04', 'PA - 04', 'MO - 02', 'VA - 09',\n",
       "       'TX - 25', 'MI - 09', 'FL - 02', 'HI - 01', 'PA - 02', 'WI - 08',\n",
       "       'GA - 04', 'MD - 02', 'OH - 16', 'GA - 11', 'IL - 06', 'NY - 03',\n",
       "       'MI - 02', 'AL - 04', 'TX - 08', 'MA - 05', 'PA - 06', 'SC - 05',\n",
       "       'CA - 16', 'TX - 36', 'AZ - 03', 'NY - 06', 'VA - 06', 'CO - 06',\n",
       "       'MO - 03', 'CA - 12', 'MN - 04', 'IN - 08', 'CA - 22', 'CA - 03',\n",
       "       'NC - 01', 'CA - 09', 'FL - 14', 'DC - 00', 'NJ - 08', 'OH - 10',\n",
       "       'WA - 07', 'UT - 03', 'MN - 03', 'KY - 02', 'WI - 02', 'VA - 08',\n",
       "       'TN - 08', 'TX - 24', 'CO - 07', 'NY - 02', 'PA - 03', 'CA - 13',\n",
       "       'CA - 46', 'MA - 03', 'NC - 03', 'CA - 02', 'NY - 25', 'NJ - 12',\n",
       "       'CA - 35', 'SC - 07', 'KY - 03', 'NY - 13', 'IN - 04', 'CA - 08',\n",
       "       'CA - 36', 'HI - 02', 'KS - 03', 'NJ - 02', 'CA - 23', 'TX - 17',\n",
       "       'NC - 09', 'TX - 27', 'IL - 16', 'NY - 24', 'NJ - 01', 'KY - 06',\n",
       "       'OH - 06', 'WA - 09', 'FL - 10', 'NY - 17', 'IN - 01', 'NY - 27',\n",
       "       'CA - 10', 'CA - 14', 'CA - 41', 'GA - 13', 'LA - 06', 'NY - 23',\n",
       "       'FL - 13', 'NM - 01', 'MD - 08', 'OH - 08', 'CA - 30', 'FL - 09',\n",
       "       'TX - 31', 'OH - 05', 'CA - 04', 'FL - 15', 'IL - 17', 'KS - 02',\n",
       "       'KY - 04', 'IL - 09', 'NV - 02', 'FL - 06', 'CA - 37', 'MD - 04',\n",
       "       'TX - 28', 'CA - 32', 'TX - 18', 'NJ - 10', 'MD - 07', 'TX - 09',\n",
       "       'KS - 04', 'AZ - 02', 'NC - 07', 'WA - 04', 'TX - 23', 'PA - 13',\n",
       "       'NY - 14', 'AZ - 09', 'FL - 22', 'CT - 01', 'IA - 03', 'NY - 26',\n",
       "       'AK - 00', 'CA - 48', 'NJ - 06', 'TX - 22', 'WV - 02', 'MS - 02',\n",
       "       'OH - 14', 'CA - 40', 'CO - 05', 'KY - 05', 'CA - 44', 'NY - 04',\n",
       "       'CA - 05', 'IL - 11', 'PA - 07', 'FL - 05', 'FL - 17', 'TX -',\n",
       "       'MN - 05', 'TN - 09', 'CA - 43', 'WV - 03', 'TN - 06', 'AR - 04',\n",
       "       'OH - 13', 'OH - 15', 'TX - 16', 'PA - 18', 'CA - 53', 'PA - 11',\n",
       "       'IN - 09', 'WA - 10', 'TX - 32', 'OH - 12', 'WI - 05', 'RI - 02',\n",
       "       'MI - 13', 'AZ - 08', 'SD - 04', 'NC - 12', 'IL -', 'TX - 35',\n",
       "       'TX - 33', 'AR -', 'WY - 02', 'NJ -', 'CT -', 'DE - 01', 'ND - 07',\n",
       "       'SD - 01', 'WY - 01', 'MT - 01', 'WY - 03', 'MA -', 'SD - 03',\n",
       "       'AL - 20', 'AL - 08', 'LA -', 'NV -', 'CA - 00', 'CA -', 'GA -',\n",
       "       'AZ -', 'NY -', 'IL - 00', 'OH -', 'CT - 20', 'SD - 07', 'VI - 00',\n",
       "       'MI - 00', 'AL -', 'WI -', 'NE - 06', 'CO - 45', 'MN - 00',\n",
       "       'DC - 08', 'FL -', 'CO - 25', 'MA - 00', 'IA - 07', 'NM - 08',\n",
       "       'NV - 12', 'CO - 18', 'MI -', 'AR - 06', 'NJ - 22', 'ME - 09',\n",
       "       'MS - 09', 'AL - 18', 'VA - 00', 'LA - 09', 'AZ - 49', 'OH - 21',\n",
       "       'UT - 12', 'AL - 13', 'GA - 17', 'OR -', 'ND - 17', 'OH - 00',\n",
       "       'AZ - 00', 'TX - 00', 'CT - 16', 'VT - 30', 'IN -', 'CO - 28',\n",
       "       'IA - 11', 'WA - 21', 'UT -', 'MD -', 'NH - 03', 'ND - 09', 'CO -',\n",
       "       'CO - 00', 'ME -', 'MS - 08', 'RI -', 'ID -', 'OK - 11', 'ME - 00',\n",
       "       'VT - 03', 'SC - 08', 'VT - 24', 'WA -', 'SC -', 'CO - 26', 'VT -',\n",
       "       'CO - 33', 'CO - 53', 'NC -'], dtype=object)"
      ]
     },
     "execution_count": 43,
     "metadata": {},
     "output_type": "execute_result"
    }
   ],
   "source": [
    "df.loc[~df.City.isna() | ~df.Zip.isna()].CD.unique()"
   ]
  },
  {
   "cell_type": "code",
   "execution_count": 56,
   "metadata": {},
   "outputs": [
    {
     "data": {
      "text/plain": [
       "722511.0    146877\n",
       "541110.0    105007\n",
       "531210.0     96656\n",
       "621111.0     88292\n",
       "621210.0     86375\n",
       "             ...  \n",
       "485112.0        10\n",
       "212391.0         9\n",
       "311313.0         9\n",
       "212222.0         6\n",
       "212291.0         4\n",
       "Name: NAICSCode, Length: 1057, dtype: int64"
      ]
     },
     "execution_count": 56,
     "metadata": {},
     "output_type": "execute_result"
    }
   ],
   "source": [
    "df.NAICSCode.value_counts()"
   ]
  },
  {
   "cell_type": "code",
   "execution_count": 57,
   "metadata": {},
   "outputs": [
    {
     "data": {
      "text/plain": [
       "Full-Service Restaurants                                     146877\n",
       "Offices of Lawyers                                           105007\n",
       "Offices of Real Estate Agents and Brokers                     96656\n",
       "Offices of Physicians (except Mental Health Specialists)      88292\n",
       "Offices of Dentists                                           86375\n",
       "                                                              ...  \n",
       "Commuter Rail Systems                                            10\n",
       "Beet Sugar Manufacturing                                          9\n",
       "Potash, Soda, and Borate Mineral Mining                           9\n",
       "Silver Ore Mining                                                 6\n",
       "Uranium-Radium-Vanadium Ore Mining                                4\n",
       "Name: Industry, Length: 1057, dtype: int64"
      ]
     },
     "execution_count": 57,
     "metadata": {},
     "output_type": "execute_result"
    }
   ],
   "source": [
    "df.Industry.value_counts()"
   ]
  },
  {
   "cell_type": "code",
   "execution_count": null,
   "metadata": {},
   "outputs": [],
   "source": []
  },
  {
   "cell_type": "code",
   "execution_count": null,
   "metadata": {},
   "outputs": [],
   "source": []
  },
  {
   "cell_type": "code",
   "execution_count": null,
   "metadata": {},
   "outputs": [],
   "source": []
  },
  {
   "cell_type": "code",
   "execution_count": null,
   "metadata": {},
   "outputs": [],
   "source": []
  }
 ],
 "metadata": {
  "kernelspec": {
   "display_name": "Python 3",
   "language": "python",
   "name": "python3"
  },
  "language_info": {
   "codemirror_mode": {
    "name": "ipython",
    "version": 3
   },
   "file_extension": ".py",
   "mimetype": "text/x-python",
   "name": "python",
   "nbconvert_exporter": "python",
   "pygments_lexer": "ipython3",
   "version": "3.8.3"
  }
 },
 "nbformat": 4,
 "nbformat_minor": 2
}
