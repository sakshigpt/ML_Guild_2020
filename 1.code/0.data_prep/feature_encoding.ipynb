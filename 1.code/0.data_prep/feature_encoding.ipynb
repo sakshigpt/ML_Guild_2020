{
 "cells": [
  {
   "cell_type": "markdown",
   "metadata": {},
   "source": [
    "Imports"
   ]
  },
  {
   "cell_type": "code",
   "execution_count": 1,
   "metadata": {
    "scrolled": true
   },
   "outputs": [],
   "source": [
    "%load_ext autoreload\n",
    "%autoreload 2"
   ]
  },
  {
   "cell_type": "code",
   "execution_count": 16,
   "metadata": {},
   "outputs": [],
   "source": [
    "import pandas as pd, sys, numpy as np, getpass\n",
    "from  datetime import date\n",
    "from sklearn.model_selection import train_test_split\n",
    "\n",
    "\n",
    "username = getpass.getuser()\n",
    "if(username == 'sakshigupta43'):\n",
    "    sys.path.insert(0, '/Users/sakshigupta43/Desktop/Guild_Competition/ML_Guild_2020')\n",
    "    sys.path.insert(0, '/Users/sakshigupta43/Desktop/Guild_Competition/ML_Guild_2020/1.code')\n",
    "else:\n",
    "    sys.path.insert(0, '/Users/skoranne/Desktop/Guild_Competition/ML_Guild_2020')\n",
    "    sys.path.insert(0, '/Users/skoranne/Desktop/Guild_Competition/ML_Guild_2020/1.code')\n",
    "\n",
    "from CONFIG import *\n",
    "from utils.encoding import *"
   ]
  },
  {
   "cell_type": "code",
   "execution_count": 7,
   "metadata": {},
   "outputs": [],
   "source": [
    "%reload_ext autoreload"
   ]
  },
  {
   "cell_type": "markdown",
   "metadata": {},
   "source": [
    "Read Data"
   ]
  },
  {
   "cell_type": "code",
   "execution_count": 8,
   "metadata": {
    "scrolled": true
   },
   "outputs": [],
   "source": [
    "#-- 'Move to Data Prep'\n",
    "df = pd.read_csv(path_data_processed + '/processed_data_20200919.csv.gz', compression = 'gzip')\n",
    "\n",
    "X = df.drop(columns = target)\n",
    "y = df[target]\n",
    "\n",
    "X_train, X_test, y_train, y_test = train_test_split(X, y, test_size=0.2, random_state=42)\n",
    "\n",
    "#-- Read X_train, X_test, y_train, y_test"
   ]
  },
  {
   "cell_type": "markdown",
   "metadata": {},
   "source": [
    "#### Target encoding"
   ]
  },
  {
   "cell_type": "code",
   "execution_count": 9,
   "metadata": {
    "scrolled": true
   },
   "outputs": [
    {
     "name": "stdout",
     "output_type": "stream",
     "text": [
      "Encoding for column: CD\n",
      "Encoding for column: City\n",
      "Encoding for column: Lender\n",
      "Encoding for column: NAICSCode\n",
      "Encoding for column: State\n",
      "Encoding for column: Zip\n",
      "CPU times: user 12 s, sys: 615 ms, total: 12.6 s\n",
      "Wall time: 12.7 s\n"
     ]
    }
   ],
   "source": [
    "%%time\n",
    "target_encoding_fit(X_train, y_train, encoding_columns)"
   ]
  },
  {
   "cell_type": "code",
   "execution_count": 10,
   "metadata": {
    "scrolled": true
   },
   "outputs": [
    {
     "name": "stdout",
     "output_type": "stream",
     "text": [
      "Encoding for column: CD\n"
     ]
    },
    {
     "name": "stderr",
     "output_type": "stream",
     "text": [
      "/Users/sakshigupta43/Desktop/Guild_Competition/ML_Guild_2020/1.code/utils/encoding.py:36: SettingWithCopyWarning: \n",
      "A value is trying to be set on a copy of a slice from a DataFrame.\n",
      "Try using .loc[row_indexer,col_indexer] = value instead\n",
      "\n",
      "See the caveats in the documentation: https://pandas.pydata.org/pandas-docs/stable/user_guide/indexing.html#returning-a-view-versus-a-copy\n",
      "  df[col] = encoder.transform(df[col])\n"
     ]
    },
    {
     "name": "stdout",
     "output_type": "stream",
     "text": [
      "Encoding for column: City\n",
      "Encoding for column: Lender\n",
      "Encoding for column: NAICSCode\n",
      "Encoding for column: State\n",
      "Encoding for column: Zip\n",
      "CPU times: user 5.03 s, sys: 563 ms, total: 5.6 s\n",
      "Wall time: 5.76 s\n"
     ]
    }
   ],
   "source": [
    "%%time\n",
    "X_train = target_encoding_transform(X_train, encoding_columns)"
   ]
  },
  {
   "cell_type": "code",
   "execution_count": 11,
   "metadata": {},
   "outputs": [
    {
     "name": "stdout",
     "output_type": "stream",
     "text": [
      "Encoding for column: CD\n",
      "Encoding for column: City\n",
      "Encoding for column: Lender\n",
      "Encoding for column: NAICSCode\n",
      "Encoding for column: State\n",
      "Encoding for column: Zip\n"
     ]
    }
   ],
   "source": [
    "X_test = target_encoding_transform(X_test, encoding_columns)"
   ]
  },
  {
   "cell_type": "markdown",
   "metadata": {},
   "source": [
    "#### OHE"
   ]
  },
  {
   "cell_type": "code",
   "execution_count": 12,
   "metadata": {},
   "outputs": [
    {
     "name": "stdout",
     "output_type": "stream",
     "text": [
      "Encoding for column: Veteran\n",
      "Encoding for column: RaceEthnicity\n",
      "Encoding for column: Gender\n",
      "Encoding for column: BusinessType\n",
      "Encoding for column: DateApproved_month\n",
      "Encoding for column: DateApproved_day_of_week\n",
      "Encoding for column: DateApproved_date\n",
      "CPU times: user 6.66 s, sys: 492 ms, total: 7.15 s\n",
      "Wall time: 7.24 s\n"
     ]
    }
   ],
   "source": [
    "%%time\n",
    "ohe_encoding_fit(X_train, y_train, ohe_columns)"
   ]
  },
  {
   "cell_type": "code",
   "execution_count": 13,
   "metadata": {},
   "outputs": [
    {
     "name": "stdout",
     "output_type": "stream",
     "text": [
      "Encoding for column: Veteran\n"
     ]
    },
    {
     "name": "stderr",
     "output_type": "stream",
     "text": [
      "/Users/sakshigupta43/Desktop/Guild_Competition/ML_Guild_2020/1.code/utils/encoding.py:56: SettingWithCopyWarning: \n",
      "A value is trying to be set on a copy of a slice from a DataFrame.\n",
      "Try using .loc[row_indexer,col_indexer] = value instead\n",
      "\n",
      "See the caveats in the documentation: https://pandas.pydata.org/pandas-docs/stable/user_guide/indexing.html#returning-a-view-versus-a-copy\n",
      "  df[col] = encoder.transform(df[col])\n"
     ]
    },
    {
     "name": "stdout",
     "output_type": "stream",
     "text": [
      "Encoding for column: RaceEthnicity\n",
      "Encoding for column: Gender\n",
      "Encoding for column: BusinessType\n",
      "Encoding for column: DateApproved_month\n",
      "Encoding for column: DateApproved_day_of_week\n",
      "Encoding for column: DateApproved_date\n",
      "CPU times: user 2.31 s, sys: 310 ms, total: 2.62 s\n",
      "Wall time: 2.63 s\n"
     ]
    }
   ],
   "source": [
    "%%time\n",
    "X_train = ohe_encoding_transform(X_train, ohe_columns)"
   ]
  },
  {
   "cell_type": "code",
   "execution_count": 14,
   "metadata": {},
   "outputs": [
    {
     "name": "stdout",
     "output_type": "stream",
     "text": [
      "Encoding for column: Veteran\n",
      "Encoding for column: RaceEthnicity\n",
      "Encoding for column: Gender\n",
      "Encoding for column: BusinessType\n",
      "Encoding for column: DateApproved_month\n",
      "Encoding for column: DateApproved_day_of_week\n",
      "Encoding for column: DateApproved_date\n"
     ]
    }
   ],
   "source": [
    "X_test = ohe_encoding_transform(X_test, ohe_columns)"
   ]
  },
  {
   "cell_type": "code",
   "execution_count": 17,
   "metadata": {},
   "outputs": [],
   "source": [
    "X_train.to_csv(path_data_master + 'X_train_' + date.today().strftime('%Y%m%d') + '.csv.gz',index = False, compression = 'gzip')\n",
    "y_train.to_csv(path_data_master + 'y_train_' + date.today().strftime('%Y%m%d') + '.csv.gz',index = False, compression = 'gzip')\n",
    "X_test.to_csv(path_data_master + 'X_test_' + date.today().strftime('%Y%m%d') + '.csv.gz',index = False, compression = 'gzip')\n",
    "y_test.to_csv(path_data_master + 'y_test_' + date.today().strftime('%Y%m%d') + '.csv.gz',index = False, compression = 'gzip')"
   ]
  },
  {
   "cell_type": "markdown",
   "metadata": {},
   "source": [
    "\n",
    "#### Label Encoding"
   ]
  },
  {
   "cell_type": "code",
   "execution_count": 9,
   "metadata": {
    "collapsed": true
   },
   "outputs": [
    {
     "ename": "ModuleNotFoundError",
     "evalue": "No module named 'category_encoders'",
     "output_type": "error",
     "traceback": [
      "\u001b[0;31m---------------------------------------------------------------------------\u001b[0m",
      "\u001b[0;31mModuleNotFoundError\u001b[0m                       Traceback (most recent call last)",
      "\u001b[0;32m<ipython-input-9-382c17b5d1ad>\u001b[0m in \u001b[0;36m<module>\u001b[0;34m\u001b[0m\n\u001b[1;32m      1\u001b[0m \u001b[0;32mfrom\u001b[0m \u001b[0msklearn\u001b[0m\u001b[0;34m.\u001b[0m\u001b[0mpreprocessing\u001b[0m \u001b[0;32mimport\u001b[0m \u001b[0mLabelEncoder\u001b[0m\u001b[0;34m\u001b[0m\u001b[0;34m\u001b[0m\u001b[0m\n\u001b[0;32m----> 2\u001b[0;31m \u001b[0;32mfrom\u001b[0m \u001b[0mcategory_encoders\u001b[0m\u001b[0;34m.\u001b[0m\u001b[0mtarget_encoder\u001b[0m \u001b[0;32mimport\u001b[0m \u001b[0mTargetEncoder\u001b[0m\u001b[0;34m\u001b[0m\u001b[0;34m\u001b[0m\u001b[0m\n\u001b[0m",
      "\u001b[0;31mModuleNotFoundError\u001b[0m: No module named 'category_encoders'"
     ]
    }
   ],
   "source": [
    "label_encoding_fit(X_train, thresh)"
   ]
  },
  {
   "cell_type": "code",
   "execution_count": null,
   "metadata": {},
   "outputs": [],
   "source": [
    "X_train  = label_encoding_transform(X_train)"
   ]
  },
  {
   "cell_type": "code",
   "execution_count": null,
   "metadata": {},
   "outputs": [],
   "source": [
    "X_test  = label_encoding_transform(X_test)"
   ]
  },
  {
   "cell_type": "markdown",
   "metadata": {},
   "source": [
    "#### Catboost Encoding"
   ]
  },
  {
   "cell_type": "code",
   "execution_count": null,
   "metadata": {},
   "outputs": [],
   "source": [
    "catboost_encoding_fit(X_train, thresh)"
   ]
  },
  {
   "cell_type": "code",
   "execution_count": null,
   "metadata": {},
   "outputs": [],
   "source": [
    "X_train  = catboost_encoding_transform(X_train)"
   ]
  },
  {
   "cell_type": "code",
   "execution_count": null,
   "metadata": {},
   "outputs": [],
   "source": [
    "X_test  = catboost_encoding_transform(X_test)"
   ]
  },
  {
   "cell_type": "markdown",
   "metadata": {},
   "source": [
    "#### James Stein"
   ]
  },
  {
   "cell_type": "code",
   "execution_count": null,
   "metadata": {},
   "outputs": [],
   "source": [
    "james_stein_encoding_fit(X_train, thresh)"
   ]
  },
  {
   "cell_type": "code",
   "execution_count": null,
   "metadata": {},
   "outputs": [],
   "source": [
    "X_train  = james_stein_encoding_transform(X_train)"
   ]
  },
  {
   "cell_type": "code",
   "execution_count": null,
   "metadata": {},
   "outputs": [],
   "source": [
    "X_test  = james_stein_encoding_transform(X_test)"
   ]
  },
  {
   "cell_type": "code",
   "execution_count": null,
   "metadata": {},
   "outputs": [],
   "source": []
  }
 ],
 "metadata": {
  "kernelspec": {
   "display_name": "Python 3",
   "language": "python",
   "name": "python3"
  },
  "language_info": {
   "codemirror_mode": {
    "name": "ipython",
    "version": 3
   },
   "file_extension": ".py",
   "mimetype": "text/x-python",
   "name": "python",
   "nbconvert_exporter": "python",
   "pygments_lexer": "ipython3",
   "version": "3.8.3"
  }
 },
 "nbformat": 4,
 "nbformat_minor": 2
}
