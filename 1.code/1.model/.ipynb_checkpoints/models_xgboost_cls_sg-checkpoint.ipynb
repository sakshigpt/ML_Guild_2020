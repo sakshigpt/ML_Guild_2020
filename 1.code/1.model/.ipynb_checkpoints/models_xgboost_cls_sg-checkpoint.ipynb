{
 "cells": [
  {
   "cell_type": "code",
   "execution_count": 1,
   "metadata": {},
   "outputs": [],
   "source": [
    "%load_ext autoreload\n",
    "%autoreload 2"
   ]
  },
  {
   "cell_type": "code",
   "execution_count": 2,
   "metadata": {
    "scrolled": true
   },
   "outputs": [],
   "source": [
    "import pandas as pd, numpy as np,  sys, os, getpass \n",
    "import csv, warnings, time, pickle\n",
    "from datetime import date\n",
    "\n",
    "import xgboost\n",
    "from xgboost import XGBClassifier\n",
    "from sklearn.multiclass import OneVsRestClassifier\n",
    "from sklearn.preprocessing import MultiLabelBinarizer\n",
    "\n",
    "from sklearn.ensemble import GradientBoostingClassifier\n",
    "from sklearn.ensemble import RandomForestClassifier\n",
    "\n",
    "username = getpass.getuser()\n",
    "if(username == 'sakshigupta43'):\n",
    "    sys.path.insert(0, '/Users/sakshigupta43/Desktop/Guild_Competition/ML_Guild_2020')\n",
    "    sys.path.insert(0, '/Users/sakshigupta43/Desktop/Guild_Competition/ML_Guild_2020/1.code')\n",
    "else:\n",
    "    sys.path.insert(0, '/Users/skoranne/Desktop/Guild_Competition/ML_Guild_2020')\n",
    "    sys.path.insert(0, '/Users/skoranne/Desktop/Guild_Competition/ML_Guild_2020/1.code')\n",
    "\n",
    "\n",
    "from CONFIG import *\n",
    "from utils.encoding import *\n",
    "from utils.modeling import *"
   ]
  },
  {
   "cell_type": "code",
   "execution_count": 3,
   "metadata": {},
   "outputs": [],
   "source": [
    "%reload_ext autoreload"
   ]
  },
  {
   "cell_type": "code",
   "execution_count": 4,
   "metadata": {},
   "outputs": [],
   "source": [
    "X_train = pd.read_csv(path_data_master + '/X_train_20200919.csv.gz', compression = 'gzip')\n",
    "y_train = pd.read_csv(path_data_master + '/y_train_20200919.csv.gz', compression = 'gzip')\n",
    "X_test = pd.read_csv(path_data_master + '/X_test_20200919.csv.gz', compression = 'gzip')\n",
    "y_test = pd.read_csv(path_data_master + '/y_test_20200919.csv.gz', compression = 'gzip')"
   ]
  },
  {
   "cell_type": "markdown",
   "metadata": {},
   "source": [
    "XGBoost"
   ]
  },
  {
   "cell_type": "code",
   "execution_count": 30,
   "metadata": {},
   "outputs": [],
   "source": [
    "#Segment dataframes based on business type"
   ]
  },
  {
   "cell_type": "code",
   "execution_count": 17,
   "metadata": {},
   "outputs": [],
   "source": [
    "btype_vals = X_train.BusinessType.value_counts().index.tolist()"
   ]
  },
  {
   "cell_type": "code",
   "execution_count": 31,
   "metadata": {},
   "outputs": [],
   "source": [
    "df_train = {f'df_{x}': X_train.loc[X_train.BusinessType == btype_vals[x]] for x in range(0,len(btype_vals))}\n",
    "df_test = {f'df_{x}': X_test.loc[X_train.BusinessType == btype_vals[x]] for x in range(0,len(btype_vals))}"
   ]
  },
  {
   "cell_type": "markdown",
   "metadata": {},
   "source": [
    "First Business Type"
   ]
  },
  {
   "cell_type": "code",
   "execution_count": 37,
   "metadata": {},
   "outputs": [],
   "source": [
    "df = 'df_0'\n",
    "\n",
    "X_train_ = df_train[df]\n",
    "train_indices = X_train_.index.tolist()\n",
    "y_train_ = y_train.loc[y_train.index.isin(train_indices)]\n",
    "\n",
    "X_test_ = df_test[df]\n",
    "test_indices = X_test_.index.tolist()\n",
    "y_test_ = y_test.loc[y_test.index.isin(test_indices)]"
   ]
  },
  {
   "cell_type": "code",
   "execution_count": 38,
   "metadata": {},
   "outputs": [],
   "source": [
    "clf = OneVsRestClassifier(XGBClassifier(n_jobs=-1, max_depth=4))"
   ]
  },
  {
   "cell_type": "code",
   "execution_count": null,
   "metadata": {},
   "outputs": [],
   "source": [
    "%%time\n",
    "clf.fit(X_train_, y_train_)"
   ]
  },
  {
   "cell_type": "code",
   "execution_count": null,
   "metadata": {},
   "outputs": [],
   "source": [
    "pred_train = clf.predict(X_train_)\n",
    "pred_test = clf.predict(X_test_)"
   ]
  },
  {
   "cell_type": "code",
   "execution_count": null,
   "metadata": {},
   "outputs": [],
   "source": [
    "print_result(pred_train, y_train_, pred_test, y_test_)"
   ]
  },
  {
   "cell_type": "code",
   "execution_count": null,
   "metadata": {},
   "outputs": [],
   "source": [
    "for i,col in enumerate(X_train.columns.values.tolist()):\n",
    "    print(col,'{0:.4f}'.format(gbr.feature_importances_[i]))"
   ]
  },
  {
   "cell_type": "code",
   "execution_count": null,
   "metadata": {},
   "outputs": [],
   "source": []
  }
 ],
 "metadata": {
  "kernelspec": {
   "display_name": "Python 3",
   "language": "python",
   "name": "python3"
  },
  "language_info": {
   "codemirror_mode": {
    "name": "ipython",
    "version": 3
   },
   "file_extension": ".py",
   "mimetype": "text/x-python",
   "name": "python",
   "nbconvert_exporter": "python",
   "pygments_lexer": "ipython3",
   "version": "3.8.3"
  }
 },
 "nbformat": 4,
 "nbformat_minor": 4
}
